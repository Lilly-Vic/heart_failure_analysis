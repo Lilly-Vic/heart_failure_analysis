{
 "cells": [
  {
   "cell_type": "markdown",
   "metadata": {},
   "source": [
    "# Analysis Report on Heart Failure Dataset\n",
    "\n",
    "## Introduction\n",
    "Heart failure (HF) occurs when the heart cannot pump enough blood to meet the needs of the body. It is a critical and widespread medical condition that affects millions of individuals worldwide. Choosing to work on this project focused on heart failure came with the goal to make a positive contribution to public health and the potential to contribute to advancements in medical science. \n",
    "\n",
    "This report aims to use Supervised Machine Learning format (Classification and Regression) to predict patients’ survival from their data and the most important features among those included in their medical records. It is based on clinical records of 299 heart failure patients gotten from https://archive.ics.uci.edu.\n",
    "\n",
    "### The clinical variables in the dataset are:\n",
    "- age: age of the patient (years)\n",
    "- anaemia: decrease of red blood cells or hemoglobin (boolean)\n",
    "- creatinine phosphokinase  (CPK): level of the CPK enzyme in the blood (mcg/L)\n",
    "- diabetes: if the patient has diabetes (boolean)\n",
    "- ejection fraction: percentage of blood leaving the heart at each contraction  (percentage)\n",
    "- high blood pressure: if the patient has hypertension (boolean)\n",
    "- platelets: platelets in the blood (kiloplatelets/mL)\n",
    "- sex: woman or man (binary)\n",
    "- serum creatinine: level of serum creatinine in the blood (mg/dL)\n",
    "- serum sodium: level of serum sodium in the blood (mEq/L)\n",
    "- smoking: if the patient smokes or not (boolean)\n",
    "- time: follow-up period (days)\n",
    "- [target] death event: if the patient died during the follow-up period (boolean)\n",
    "\n",
    "### For Regression Analysis\n",
    "response variable (y) = creatinine phosphokinase\n",
    "\n",
    "explanatory variable (x) = age, ejection fraction, platelets, and serum creatinine\n",
    "\n",
    "### For Classification\n",
    "response variable (y) = death event\n",
    "\n",
    "explanatory variable (x) = age, ejection fraction, platelets, and serum creatinin"
   ]
  },
  {
   "cell_type": "code",
   "execution_count": 4,
   "metadata": {},
   "outputs": [],
   "source": [
    "# Dependencies\n",
    "import pandas as pd\n",
    "import numpy as np\n",
    "import statistics as stats\n",
    "import matplotlib.pyplot as plt\n",
    "import seaborn as sns\n",
    "import plotly.express as px\n",
    "import statsmodels.formula.api as sm\n",
    "from sklearn.model_selection import train_test_split\n",
    "from sklearn.metrics import confusion_matrix, accuracy_score\n",
    "from sklearn.linear_model import LogisticRegression"
   ]
  },
  {
   "cell_type": "markdown",
   "metadata": {},
   "source": [
    "# PART A: Regression Analysis\n",
    "In this section, I would be performing regression analysis on my data (HeartFailure.csv) to estimate the relationship between my dependent variable creatinine phosphokinase and independent variables age, ejection fraction, platelets, and serum creatinine."
   ]
  },
  {
   "cell_type": "code",
   "execution_count": 5,
   "metadata": {},
   "outputs": [
    {
     "data": {
      "text/html": [
       "<div>\n",
       "<style scoped>\n",
       "    .dataframe tbody tr th:only-of-type {\n",
       "        vertical-align: middle;\n",
       "    }\n",
       "\n",
       "    .dataframe tbody tr th {\n",
       "        vertical-align: top;\n",
       "    }\n",
       "\n",
       "    .dataframe thead th {\n",
       "        text-align: right;\n",
       "    }\n",
       "</style>\n",
       "<table border=\"1\" class=\"dataframe\">\n",
       "  <thead>\n",
       "    <tr style=\"text-align: right;\">\n",
       "      <th></th>\n",
       "      <th>age</th>\n",
       "      <th>anaemia</th>\n",
       "      <th>creatinine_phosphokinase</th>\n",
       "      <th>diabetes</th>\n",
       "      <th>ejection_fraction</th>\n",
       "      <th>high_blood_pressure</th>\n",
       "      <th>platelets</th>\n",
       "      <th>serum_creatinine</th>\n",
       "      <th>serum_sodium</th>\n",
       "      <th>sex</th>\n",
       "      <th>smoking</th>\n",
       "      <th>time</th>\n",
       "      <th>DEATH_EVENT</th>\n",
       "    </tr>\n",
       "  </thead>\n",
       "  <tbody>\n",
       "    <tr>\n",
       "      <th>0</th>\n",
       "      <td>75.0</td>\n",
       "      <td>0</td>\n",
       "      <td>582</td>\n",
       "      <td>0</td>\n",
       "      <td>20</td>\n",
       "      <td>1</td>\n",
       "      <td>265000.00</td>\n",
       "      <td>1.9</td>\n",
       "      <td>130</td>\n",
       "      <td>1</td>\n",
       "      <td>0</td>\n",
       "      <td>4</td>\n",
       "      <td>1</td>\n",
       "    </tr>\n",
       "    <tr>\n",
       "      <th>1</th>\n",
       "      <td>55.0</td>\n",
       "      <td>0</td>\n",
       "      <td>7861</td>\n",
       "      <td>0</td>\n",
       "      <td>38</td>\n",
       "      <td>0</td>\n",
       "      <td>263358.03</td>\n",
       "      <td>1.1</td>\n",
       "      <td>136</td>\n",
       "      <td>1</td>\n",
       "      <td>0</td>\n",
       "      <td>6</td>\n",
       "      <td>1</td>\n",
       "    </tr>\n",
       "    <tr>\n",
       "      <th>2</th>\n",
       "      <td>65.0</td>\n",
       "      <td>0</td>\n",
       "      <td>146</td>\n",
       "      <td>0</td>\n",
       "      <td>20</td>\n",
       "      <td>0</td>\n",
       "      <td>162000.00</td>\n",
       "      <td>1.3</td>\n",
       "      <td>129</td>\n",
       "      <td>1</td>\n",
       "      <td>1</td>\n",
       "      <td>7</td>\n",
       "      <td>1</td>\n",
       "    </tr>\n",
       "    <tr>\n",
       "      <th>3</th>\n",
       "      <td>50.0</td>\n",
       "      <td>1</td>\n",
       "      <td>111</td>\n",
       "      <td>0</td>\n",
       "      <td>20</td>\n",
       "      <td>0</td>\n",
       "      <td>210000.00</td>\n",
       "      <td>1.9</td>\n",
       "      <td>137</td>\n",
       "      <td>1</td>\n",
       "      <td>0</td>\n",
       "      <td>7</td>\n",
       "      <td>1</td>\n",
       "    </tr>\n",
       "    <tr>\n",
       "      <th>4</th>\n",
       "      <td>65.0</td>\n",
       "      <td>1</td>\n",
       "      <td>160</td>\n",
       "      <td>1</td>\n",
       "      <td>20</td>\n",
       "      <td>0</td>\n",
       "      <td>327000.00</td>\n",
       "      <td>2.7</td>\n",
       "      <td>116</td>\n",
       "      <td>0</td>\n",
       "      <td>0</td>\n",
       "      <td>8</td>\n",
       "      <td>1</td>\n",
       "    </tr>\n",
       "    <tr>\n",
       "      <th>...</th>\n",
       "      <td>...</td>\n",
       "      <td>...</td>\n",
       "      <td>...</td>\n",
       "      <td>...</td>\n",
       "      <td>...</td>\n",
       "      <td>...</td>\n",
       "      <td>...</td>\n",
       "      <td>...</td>\n",
       "      <td>...</td>\n",
       "      <td>...</td>\n",
       "      <td>...</td>\n",
       "      <td>...</td>\n",
       "      <td>...</td>\n",
       "    </tr>\n",
       "    <tr>\n",
       "      <th>294</th>\n",
       "      <td>62.0</td>\n",
       "      <td>0</td>\n",
       "      <td>61</td>\n",
       "      <td>1</td>\n",
       "      <td>38</td>\n",
       "      <td>1</td>\n",
       "      <td>155000.00</td>\n",
       "      <td>1.1</td>\n",
       "      <td>143</td>\n",
       "      <td>1</td>\n",
       "      <td>1</td>\n",
       "      <td>270</td>\n",
       "      <td>0</td>\n",
       "    </tr>\n",
       "    <tr>\n",
       "      <th>295</th>\n",
       "      <td>55.0</td>\n",
       "      <td>0</td>\n",
       "      <td>1820</td>\n",
       "      <td>0</td>\n",
       "      <td>38</td>\n",
       "      <td>0</td>\n",
       "      <td>270000.00</td>\n",
       "      <td>1.2</td>\n",
       "      <td>139</td>\n",
       "      <td>0</td>\n",
       "      <td>0</td>\n",
       "      <td>271</td>\n",
       "      <td>0</td>\n",
       "    </tr>\n",
       "    <tr>\n",
       "      <th>296</th>\n",
       "      <td>45.0</td>\n",
       "      <td>0</td>\n",
       "      <td>2060</td>\n",
       "      <td>1</td>\n",
       "      <td>60</td>\n",
       "      <td>0</td>\n",
       "      <td>742000.00</td>\n",
       "      <td>0.8</td>\n",
       "      <td>138</td>\n",
       "      <td>0</td>\n",
       "      <td>0</td>\n",
       "      <td>278</td>\n",
       "      <td>0</td>\n",
       "    </tr>\n",
       "    <tr>\n",
       "      <th>297</th>\n",
       "      <td>45.0</td>\n",
       "      <td>0</td>\n",
       "      <td>2413</td>\n",
       "      <td>0</td>\n",
       "      <td>38</td>\n",
       "      <td>0</td>\n",
       "      <td>140000.00</td>\n",
       "      <td>1.4</td>\n",
       "      <td>140</td>\n",
       "      <td>1</td>\n",
       "      <td>1</td>\n",
       "      <td>280</td>\n",
       "      <td>0</td>\n",
       "    </tr>\n",
       "    <tr>\n",
       "      <th>298</th>\n",
       "      <td>50.0</td>\n",
       "      <td>0</td>\n",
       "      <td>196</td>\n",
       "      <td>0</td>\n",
       "      <td>45</td>\n",
       "      <td>0</td>\n",
       "      <td>395000.00</td>\n",
       "      <td>1.6</td>\n",
       "      <td>136</td>\n",
       "      <td>1</td>\n",
       "      <td>1</td>\n",
       "      <td>285</td>\n",
       "      <td>0</td>\n",
       "    </tr>\n",
       "  </tbody>\n",
       "</table>\n",
       "<p>299 rows × 13 columns</p>\n",
       "</div>"
      ],
      "text/plain": [
       "      age  anaemia  creatinine_phosphokinase  diabetes  ejection_fraction  \\\n",
       "0    75.0        0                       582         0                 20   \n",
       "1    55.0        0                      7861         0                 38   \n",
       "2    65.0        0                       146         0                 20   \n",
       "3    50.0        1                       111         0                 20   \n",
       "4    65.0        1                       160         1                 20   \n",
       "..    ...      ...                       ...       ...                ...   \n",
       "294  62.0        0                        61         1                 38   \n",
       "295  55.0        0                      1820         0                 38   \n",
       "296  45.0        0                      2060         1                 60   \n",
       "297  45.0        0                      2413         0                 38   \n",
       "298  50.0        0                       196         0                 45   \n",
       "\n",
       "     high_blood_pressure  platelets  serum_creatinine  serum_sodium  sex  \\\n",
       "0                      1  265000.00               1.9           130    1   \n",
       "1                      0  263358.03               1.1           136    1   \n",
       "2                      0  162000.00               1.3           129    1   \n",
       "3                      0  210000.00               1.9           137    1   \n",
       "4                      0  327000.00               2.7           116    0   \n",
       "..                   ...        ...               ...           ...  ...   \n",
       "294                    1  155000.00               1.1           143    1   \n",
       "295                    0  270000.00               1.2           139    0   \n",
       "296                    0  742000.00               0.8           138    0   \n",
       "297                    0  140000.00               1.4           140    1   \n",
       "298                    0  395000.00               1.6           136    1   \n",
       "\n",
       "     smoking  time  DEATH_EVENT  \n",
       "0          0     4            1  \n",
       "1          0     6            1  \n",
       "2          1     7            1  \n",
       "3          0     7            1  \n",
       "4          0     8            1  \n",
       "..       ...   ...          ...  \n",
       "294        1   270            0  \n",
       "295        0   271            0  \n",
       "296        0   278            0  \n",
       "297        1   280            0  \n",
       "298        1   285            0  \n",
       "\n",
       "[299 rows x 13 columns]"
      ]
     },
     "execution_count": 5,
     "metadata": {},
     "output_type": "execute_result"
    }
   ],
   "source": [
    "# reading and converting csv file to dataframe\n",
    "data = pd.read_csv('HeartFailure.csv')\n",
    "data"
   ]
  },
  {
   "cell_type": "code",
   "execution_count": 6,
   "metadata": {},
   "outputs": [],
   "source": [
    "# assigning the variables to I would use to a new variable name\n",
    "cp_data = data['creatinine_phosphokinase']\n",
    "age_data = data['age']\n",
    "ef_data = data['ejection_fraction']\n",
    "pl_data = data['platelets']\n",
    "sc_data = data['serum_creatinine']"
   ]
  },
  {
   "cell_type": "markdown",
   "metadata": {},
   "source": [
    "### Finding the correlation between each pair of variables"
   ]
  },
  {
   "cell_type": "code",
   "execution_count": 7,
   "metadata": {},
   "outputs": [
    {
     "name": "stdout",
     "output_type": "stream",
     "text": [
      "Correlation matrix:\n",
      "                          creatinine_phosphokinase       age  \\\n",
      "creatinine_phosphokinase                  1.000000 -0.081584   \n",
      "age                                      -0.081584  1.000000   \n",
      "ejection_fraction                        -0.044080  0.060098   \n",
      "platelets                                 0.024463 -0.052354   \n",
      "serum_creatinine                         -0.016408  0.159187   \n",
      "\n",
      "                          ejection_fraction  platelets  serum_creatinine  \n",
      "creatinine_phosphokinase          -0.044080   0.024463         -0.016408  \n",
      "age                                0.060098  -0.052354          0.159187  \n",
      "ejection_fraction                  1.000000   0.072177         -0.011302  \n",
      "platelets                          0.072177   1.000000         -0.041198  \n",
      "serum_creatinine                  -0.011302  -0.041198          1.000000  \n",
      "\n",
      "Correlation between creatinine_phosphokinase and age: -0.08\n",
      "There is a weak correlation between the variables.\n",
      "Negative linear correlation.\n",
      "\n",
      "\n",
      "Correlation between creatinine_phosphokinase and ejection_fraction: -0.04\n",
      "There is a weak correlation between the variables.\n",
      "Negative linear correlation.\n",
      "\n",
      "\n",
      "Correlation between creatinine_phosphokinase and platelets: 0.02\n",
      "There is a weak correlation between the variables.\n",
      "Positive linear correlation.\n",
      "\n",
      "\n",
      "Correlation between creatinine_phosphokinase and serum_creatinine: -0.02\n",
      "There is a weak correlation between the variables.\n",
      "Negative linear correlation.\n",
      "\n",
      "\n",
      "Correlation between age and creatinine_phosphokinase: -0.08\n",
      "There is a weak correlation between the variables.\n",
      "Negative linear correlation.\n",
      "\n",
      "\n",
      "Correlation between age and ejection_fraction: 0.06\n",
      "There is a weak correlation between the variables.\n",
      "Positive linear correlation.\n",
      "\n",
      "\n",
      "Correlation between age and platelets: -0.05\n",
      "There is a weak correlation between the variables.\n",
      "Negative linear correlation.\n",
      "\n",
      "\n",
      "Correlation between age and serum_creatinine: 0.16\n",
      "There is a weak correlation between the variables.\n",
      "Positive linear correlation.\n",
      "\n",
      "\n",
      "Correlation between ejection_fraction and creatinine_phosphokinase: -0.04\n",
      "There is a weak correlation between the variables.\n",
      "Negative linear correlation.\n",
      "\n",
      "\n",
      "Correlation between ejection_fraction and age: 0.06\n",
      "There is a weak correlation between the variables.\n",
      "Positive linear correlation.\n",
      "\n",
      "\n",
      "Correlation between ejection_fraction and platelets: 0.07\n",
      "There is a weak correlation between the variables.\n",
      "Positive linear correlation.\n",
      "\n",
      "\n",
      "Correlation between ejection_fraction and serum_creatinine: -0.01\n",
      "There is a weak correlation between the variables.\n",
      "Negative linear correlation.\n",
      "\n",
      "\n",
      "Correlation between platelets and creatinine_phosphokinase: 0.02\n",
      "There is a weak correlation between the variables.\n",
      "Positive linear correlation.\n",
      "\n",
      "\n",
      "Correlation between platelets and age: -0.05\n",
      "There is a weak correlation between the variables.\n",
      "Negative linear correlation.\n",
      "\n",
      "\n",
      "Correlation between platelets and ejection_fraction: 0.07\n",
      "There is a weak correlation between the variables.\n",
      "Positive linear correlation.\n",
      "\n",
      "\n",
      "Correlation between platelets and serum_creatinine: -0.04\n",
      "There is a weak correlation between the variables.\n",
      "Negative linear correlation.\n",
      "\n",
      "\n",
      "Correlation between serum_creatinine and creatinine_phosphokinase: -0.02\n",
      "There is a weak correlation between the variables.\n",
      "Negative linear correlation.\n",
      "\n",
      "\n",
      "Correlation between serum_creatinine and age: 0.16\n",
      "There is a weak correlation between the variables.\n",
      "Positive linear correlation.\n",
      "\n",
      "\n",
      "Correlation between serum_creatinine and ejection_fraction: -0.01\n",
      "There is a weak correlation between the variables.\n",
      "Negative linear correlation.\n",
      "\n",
      "\n",
      "Correlation between serum_creatinine and platelets: -0.04\n",
      "There is a weak correlation between the variables.\n",
      "Negative linear correlation.\n",
      "\n"
     ]
    }
   ],
   "source": [
    "# selecting the variables needed for correlation\n",
    "var = data[['creatinine_phosphokinase', 'age', 'ejection_fraction', 'platelets', 'serum_creatinine']]\n",
    "\n",
    "# calculating the correlation matrix\n",
    "corr_matrix = var.corr()\n",
    "\n",
    "# displaying the correlation matrix\n",
    "print(\"Correlation matrix:\")\n",
    "print(corr_matrix)\n",
    "\n",
    "# correlation interpretation\n",
    "for var1 in var.columns:\n",
    "    for var2 in var.columns:\n",
    "        if var1 != var2:\n",
    "            # get the correlation value between the two variables and print\n",
    "            corr_value = corr_matrix.loc[var1, var2]\n",
    "            print(f\"\\nCorrelation between {var1} and {var2}: {corr_value:.2f}\")\n",
    "\n",
    "             # find the strength of the correlation\n",
    "            if abs(corr_value) >= 0.5:\n",
    "                print(\"There is a strong correlation between the variables.\")\n",
    "            else:\n",
    "                print(\"There is a weak correlation between the variables.\")\n",
    "            \n",
    "            # determine if the relationship is positive or negative\n",
    "            if corr_value > 0:\n",
    "                print(\"Positive linear correlation.\")\n",
    "            elif corr_value < 0:\n",
    "                print(\"Negative linear correlation.\")\n",
    "            else:\n",
    "                print(\"No linear correlation between the variables.\")\n",
    "            print()"
   ]
  },
  {
   "cell_type": "markdown",
   "metadata": {},
   "source": [
    "From the above, we can conclude that our variables have more weak negative linear correlation that positive."
   ]
  },
  {
   "cell_type": "markdown",
   "metadata": {},
   "source": [
    "### Scatter Matrix of the variables"
   ]
  },
  {
   "cell_type": "code",
   "execution_count": 8,
   "metadata": {},
   "outputs": [
    {
     "data": {
      "application/vnd.plotly.v1+json": {
       "config": {
        "plotlyServerURL": "https://plot.ly"
       },
       "data": [
        {
         "dimensions": [
          {
           "axis": {
            "matches": true
           },
           "label": "age",
           "values": [
            75,
            55,
            65,
            50,
            65,
            90,
            75,
            60,
            65,
            80,
            75,
            62,
            45,
            50,
            49,
            82,
            87,
            45,
            70,
            48,
            65,
            65,
            68,
            53,
            75,
            80,
            95,
            70,
            58,
            82,
            94,
            85,
            50,
            50,
            65,
            69,
            90,
            82,
            60,
            60,
            70,
            50,
            70,
            72,
            60,
            50,
            51,
            60,
            80,
            57,
            68,
            53,
            60,
            70,
            60,
            95,
            70,
            60,
            49,
            72,
            45,
            50,
            55,
            45,
            45,
            60,
            42,
            72,
            70,
            65,
            41,
            58,
            85,
            65,
            69,
            60,
            70,
            42,
            75,
            55,
            70,
            67,
            60,
            79,
            59,
            51,
            55,
            65,
            44,
            57,
            70,
            60,
            42,
            60,
            58,
            58,
            63,
            70,
            60,
            63,
            65,
            75,
            80,
            42,
            60,
            72,
            55,
            45,
            63,
            45,
            85,
            55,
            50,
            70,
            60,
            58,
            60,
            85,
            65,
            86,
            60,
            66,
            60,
            60,
            60,
            43,
            46,
            58,
            61,
            53,
            53,
            60,
            46,
            63,
            81,
            75,
            65,
            68,
            62,
            50,
            80,
            46,
            50,
            61,
            72,
            50,
            52,
            64,
            75,
            60,
            72,
            62,
            50,
            50,
            65,
            60,
            52,
            50,
            85,
            59,
            66,
            45,
            63,
            50,
            45,
            80,
            53,
            59,
            65,
            70,
            51,
            52,
            70,
            50,
            65,
            60,
            69,
            49,
            63,
            55,
            40,
            59,
            65,
            75,
            58,
            60.667,
            50,
            60,
            60.667,
            40,
            80,
            64,
            50,
            73,
            45,
            77,
            45,
            65,
            50,
            60,
            63,
            45,
            70,
            60,
            78,
            50,
            40,
            85,
            60,
            49,
            70,
            50,
            78,
            48,
            65,
            73,
            70,
            54,
            68,
            55,
            73,
            65,
            42,
            47,
            58,
            75,
            58,
            55,
            65,
            72,
            60,
            70,
            40,
            53,
            53,
            77,
            75,
            70,
            65,
            55,
            70,
            65,
            40,
            73,
            54,
            61,
            55,
            64,
            40,
            53,
            50,
            55,
            50,
            70,
            53,
            52,
            65,
            58,
            45,
            53,
            55,
            62,
            65,
            68,
            61,
            50,
            55,
            56,
            45,
            40,
            44,
            51,
            67,
            42,
            60,
            45,
            70,
            70,
            50,
            55,
            70,
            70,
            42,
            65,
            50,
            55,
            60,
            45,
            65,
            90,
            45,
            60,
            52,
            63,
            62,
            55,
            45,
            45,
            50
           ]
          },
          {
           "axis": {
            "matches": true
           },
           "label": "ejection_fraction",
           "values": [
            20,
            38,
            20,
            20,
            20,
            40,
            15,
            60,
            65,
            35,
            38,
            25,
            30,
            38,
            30,
            50,
            38,
            14,
            25,
            55,
            25,
            30,
            35,
            60,
            30,
            38,
            40,
            45,
            38,
            30,
            38,
            45,
            35,
            30,
            50,
            35,
            50,
            50,
            30,
            38,
            20,
            30,
            45,
            50,
            60,
            38,
            25,
            38,
            20,
            30,
            25,
            20,
            62,
            50,
            38,
            30,
            35,
            40,
            20,
            20,
            25,
            40,
            35,
            35,
            80,
            20,
            15,
            25,
            25,
            25,
            40,
            35,
            35,
            50,
            20,
            20,
            60,
            40,
            38,
            45,
            40,
            50,
            25,
            50,
            25,
            50,
            35,
            60,
            40,
            25,
            45,
            45,
            60,
            25,
            38,
            60,
            25,
            60,
            25,
            40,
            25,
            45,
            25,
            30,
            50,
            30,
            45,
            35,
            38,
            35,
            60,
            35,
            25,
            60,
            40,
            40,
            60,
            60,
            60,
            38,
            60,
            38,
            38,
            30,
            40,
            50,
            17,
            60,
            30,
            35,
            60,
            45,
            40,
            60,
            35,
            40,
            60,
            25,
            35,
            30,
            38,
            35,
            30,
            40,
            25,
            30,
            30,
            60,
            30,
            35,
            45,
            60,
            45,
            35,
            35,
            25,
            35,
            25,
            50,
            45,
            40,
            35,
            40,
            35,
            30,
            38,
            60,
            20,
            40,
            35,
            35,
            40,
            60,
            20,
            35,
            60,
            40,
            50,
            60,
            40,
            30,
            25,
            25,
            38,
            25,
            30,
            50,
            25,
            40,
            45,
            35,
            60,
            40,
            30,
            20,
            45,
            38,
            30,
            20,
            35,
            45,
            60,
            60,
            25,
            40,
            45,
            40,
            38,
            40,
            35,
            17,
            62,
            50,
            30,
            35,
            35,
            50,
            70,
            35,
            35,
            20,
            50,
            35,
            25,
            25,
            60,
            25,
            35,
            25,
            25,
            30,
            35,
            35,
            38,
            45,
            50,
            50,
            30,
            40,
            45,
            35,
            30,
            35,
            40,
            38,
            38,
            25,
            25,
            35,
            40,
            30,
            35,
            45,
            35,
            60,
            30,
            38,
            38,
            25,
            50,
            40,
            40,
            25,
            60,
            38,
            35,
            20,
            38,
            38,
            35,
            30,
            40,
            38,
            40,
            30,
            38,
            35,
            38,
            30,
            38,
            40,
            40,
            30,
            38,
            40,
            40,
            35,
            55,
            35,
            38,
            55,
            35,
            38,
            35,
            38,
            38,
            60,
            38,
            45
           ]
          },
          {
           "axis": {
            "matches": true
           },
           "label": "platelets",
           "values": [
            265000,
            263358.03,
            162000,
            210000,
            327000,
            204000,
            127000,
            454000,
            263358.03,
            388000,
            368000,
            253000,
            136000,
            276000,
            427000,
            47000,
            262000,
            166000,
            237000,
            87000,
            276000,
            297000,
            289000,
            368000,
            263358.03,
            149000,
            196000,
            284000,
            153000,
            200000,
            263358.03,
            360000,
            319000,
            302000,
            188000,
            228000,
            226000,
            321000,
            305000,
            329000,
            263358.03,
            153000,
            185000,
            218000,
            194000,
            310000,
            271000,
            451000,
            140000,
            395000,
            166000,
            418000,
            263358.03,
            351000,
            255000,
            461000,
            223000,
            216000,
            319000,
            254000,
            390000,
            216000,
            254000,
            385000,
            263358.03,
            119000,
            213000,
            274000,
            244000,
            497000,
            374000,
            122000,
            243000,
            149000,
            266000,
            204000,
            317000,
            237000,
            283000,
            324000,
            293000,
            263358.03,
            196000,
            172000,
            302000,
            406000,
            173000,
            304000,
            235000,
            181000,
            249000,
            297000,
            263358.03,
            210000,
            327000,
            219000,
            254000,
            255000,
            318000,
            221000,
            298000,
            263358.03,
            149000,
            226000,
            286000,
            621000,
            263000,
            226000,
            304000,
            850000,
            306000,
            228000,
            252000,
            351000,
            328000,
            164000,
            271000,
            507000,
            203000,
            263358.03,
            210000,
            162000,
            228000,
            127000,
            217000,
            237000,
            271000,
            300000,
            267000,
            227000,
            249000,
            250000,
            263358.03,
            295000,
            231000,
            263358.03,
            172000,
            305000,
            221000,
            211000,
            263358.03,
            348000,
            329000,
            229000,
            338000,
            266000,
            218000,
            242000,
            225000,
            228000,
            235000,
            244000,
            184000,
            263358.03,
            235000,
            194000,
            277000,
            262000,
            235000,
            362000,
            242000,
            174000,
            448000,
            75000,
            334000,
            192000,
            220000,
            70000,
            270000,
            305000,
            263358.03,
            325000,
            176000,
            189000,
            281000,
            337000,
            105000,
            132000,
            267000,
            279000,
            303000,
            221000,
            265000,
            224000,
            219000,
            389000,
            153000,
            365000,
            201000,
            275000,
            350000,
            309000,
            260000,
            160000,
            126000,
            223000,
            263358.03,
            259000,
            279000,
            263358.03,
            73000,
            377000,
            220000,
            212000,
            277000,
            362000,
            226000,
            186000,
            283000,
            268000,
            389000,
            147000,
            481000,
            244000,
            290000,
            203000,
            358000,
            151000,
            271000,
            371000,
            263358.03,
            194000,
            365000,
            130000,
            504000,
            265000,
            189000,
            141000,
            237000,
            274000,
            62000,
            185000,
            255000,
            330000,
            305000,
            406000,
            248000,
            173000,
            257000,
            263358.03,
            533000,
            249000,
            255000,
            220000,
            264000,
            282000,
            314000,
            246000,
            301000,
            223000,
            404000,
            231000,
            274000,
            236000,
            263358.03,
            334000,
            294000,
            253000,
            233000,
            308000,
            203000,
            283000,
            198000,
            208000,
            147000,
            362000,
            263358.03,
            133000,
            302000,
            222000,
            263358.03,
            221000,
            215000,
            189000,
            150000,
            422000,
            327000,
            25100,
            232000,
            451000,
            241000,
            51000,
            215000,
            263358.03,
            279000,
            336000,
            279000,
            543000,
            263358.03,
            390000,
            222000,
            133000,
            382000,
            179000,
            155000,
            270000,
            742000,
            140000,
            395000
           ]
          },
          {
           "axis": {
            "matches": true
           },
           "label": "serum_creatinine",
           "values": [
            1.9,
            1.1,
            1.3,
            1.9,
            2.7,
            2.1,
            1.2,
            1.1,
            1.5,
            9.4,
            4,
            0.9,
            1.1,
            1.1,
            1,
            1.3,
            0.9,
            0.8,
            1,
            1.9,
            1.3,
            1.6,
            0.9,
            0.8,
            1.83,
            1.9,
            1,
            1.3,
            5.8,
            1.2,
            1.83,
            3,
            1,
            1.2,
            1,
            3.5,
            1,
            1,
            2.3,
            3,
            1.83,
            1.2,
            1.2,
            1,
            1.1,
            1.9,
            0.9,
            0.6,
            4.4,
            1,
            1,
            1.4,
            6.8,
            1,
            2.2,
            2,
            2.7,
            0.6,
            1.1,
            1.3,
            1,
            2.3,
            1.1,
            1,
            1.18,
            2.9,
            1.3,
            1,
            1.2,
            1.83,
            0.8,
            0.9,
            1,
            1.3,
            1.2,
            0.7,
            0.8,
            1.2,
            0.6,
            0.9,
            1.7,
            1.18,
            2.5,
            1.8,
            1,
            0.7,
            1.1,
            0.8,
            0.7,
            1.1,
            0.8,
            1,
            1.18,
            1.7,
            0.7,
            1,
            1.3,
            1.1,
            1.2,
            1.1,
            1.1,
            1.18,
            1.1,
            1,
            2.3,
            1.7,
            1.3,
            0.9,
            1.1,
            1.3,
            1.2,
            1.2,
            1.6,
            1.3,
            1.2,
            1,
            0.7,
            3.2,
            0.9,
            1.83,
            1.5,
            1,
            0.75,
            0.9,
            3.7,
            1.3,
            2.1,
            0.8,
            0.7,
            3.4,
            0.7,
            6.1,
            1.18,
            1.3,
            1.18,
            1.18,
            0.9,
            2.1,
            1,
            0.8,
            1.1,
            0.9,
            0.9,
            0.9,
            1.7,
            0.7,
            0.7,
            1,
            1.83,
            0.9,
            2.5,
            0.9,
            0.9,
            1.18,
            0.8,
            1.7,
            1.4,
            1,
            1.3,
            1.1,
            1.2,
            0.8,
            0.9,
            0.9,
            1.1,
            1.3,
            0.7,
            2.4,
            1,
            0.8,
            1.5,
            0.9,
            1.1,
            0.8,
            0.9,
            1,
            1,
            1,
            1.2,
            0.7,
            0.9,
            1,
            1.2,
            2.5,
            1.2,
            1.5,
            0.6,
            2.1,
            1,
            0.9,
            2.1,
            1.5,
            0.7,
            1.18,
            1.6,
            1.8,
            1.18,
            0.8,
            1,
            1.8,
            0.7,
            1,
            0.9,
            3.5,
            0.7,
            1,
            0.8,
            0.9,
            1,
            0.8,
            1,
            0.8,
            1.4,
            1.6,
            0.8,
            1.3,
            0.9,
            9,
            1.1,
            0.7,
            1.83,
            1.1,
            1.1,
            0.8,
            1,
            1.4,
            1.3,
            1,
            5,
            1.2,
            1.7,
            1.1,
            0.9,
            1.4,
            1.1,
            1.1,
            1.1,
            1.2,
            1,
            1.18,
            1.3,
            1.3,
            1.1,
            0.9,
            1.8,
            1.4,
            1.1,
            2.4,
            1,
            1.2,
            0.5,
            0.8,
            1,
            1.2,
            1,
            1,
            1.7,
            1,
            0.8,
            0.7,
            1,
            0.7,
            1.4,
            1,
            1.2,
            0.9,
            1.83,
            1.7,
            0.9,
            1,
            1.6,
            0.9,
            1.2,
            0.7,
            1,
            0.8,
            1.1,
            1.1,
            0.7,
            1.3,
            1,
            2.7,
            3.8,
            1.1,
            0.8,
            1.2,
            1.7,
            1,
            1.1,
            0.9,
            0.8,
            1.4,
            1,
            0.9,
            1.1,
            1.2,
            0.8,
            1.4,
            1.6
           ]
          },
          {
           "axis": {
            "matches": true
           },
           "label": "creatinine_phosphokinase",
           "values": [
            582,
            7861,
            146,
            111,
            160,
            47,
            246,
            315,
            157,
            123,
            81,
            231,
            981,
            168,
            80,
            379,
            149,
            582,
            125,
            582,
            52,
            128,
            220,
            63,
            582,
            148,
            112,
            122,
            60,
            70,
            582,
            23,
            249,
            159,
            94,
            582,
            60,
            855,
            2656,
            235,
            582,
            124,
            571,
            127,
            588,
            582,
            1380,
            582,
            553,
            129,
            577,
            91,
            3964,
            69,
            260,
            371,
            75,
            607,
            789,
            364,
            7702,
            318,
            109,
            582,
            582,
            68,
            250,
            110,
            161,
            113,
            148,
            582,
            5882,
            224,
            582,
            47,
            92,
            102,
            203,
            336,
            69,
            582,
            76,
            55,
            280,
            78,
            47,
            68,
            84,
            115,
            66,
            897,
            582,
            154,
            144,
            133,
            514,
            59,
            156,
            61,
            305,
            582,
            898,
            5209,
            53,
            328,
            748,
            1876,
            936,
            292,
            129,
            60,
            369,
            143,
            754,
            400,
            96,
            102,
            113,
            582,
            737,
            68,
            96,
            582,
            582,
            358,
            168,
            200,
            248,
            270,
            1808,
            1082,
            719,
            193,
            4540,
            582,
            59,
            646,
            281,
            1548,
            805,
            291,
            482,
            84,
            943,
            185,
            132,
            1610,
            582,
            2261,
            233,
            30,
            115,
            1846,
            335,
            231,
            58,
            250,
            910,
            129,
            72,
            130,
            582,
            2334,
            2442,
            776,
            196,
            66,
            582,
            835,
            582,
            3966,
            171,
            115,
            198,
            95,
            1419,
            69,
            122,
            835,
            478,
            176,
            395,
            99,
            145,
            104,
            582,
            1896,
            151,
            244,
            582,
            62,
            121,
            231,
            582,
            418,
            582,
            167,
            582,
            1211,
            1767,
            308,
            97,
            59,
            64,
            167,
            101,
            212,
            2281,
            972,
            212,
            582,
            224,
            131,
            135,
            582,
            1202,
            427,
            1021,
            582,
            582,
            118,
            86,
            582,
            582,
            675,
            57,
            2794,
            56,
            211,
            166,
            93,
            129,
            707,
            582,
            109,
            119,
            232,
            720,
            180,
            81,
            582,
            90,
            1185,
            582,
            80,
            2017,
            143,
            624,
            207,
            2522,
            572,
            245,
            88,
            446,
            191,
            326,
            132,
            66,
            56,
            66,
            655,
            258,
            157,
            582,
            298,
            1199,
            135,
            582,
            582,
            582,
            582,
            213,
            64,
            257,
            582,
            618,
            582,
            1051,
            84,
            2695,
            582,
            64,
            1688,
            54,
            170,
            253,
            582,
            892,
            337,
            615,
            320,
            190,
            103,
            61,
            1820,
            2060,
            2413,
            196
           ]
          }
         ],
         "hovertemplate": "%{xaxis.title.text}=%{x}<br>%{yaxis.title.text}=%{y}<extra></extra>",
         "legendgroup": "",
         "marker": {
          "color": "#636efa",
          "symbol": "circle"
         },
         "name": "",
         "showlegend": false,
         "type": "splom"
        }
       ],
       "layout": {
        "dragmode": "select",
        "height": 600,
        "legend": {
         "tracegroupgap": 0
        },
        "margin": {
         "t": 60
        },
        "template": {
         "data": {
          "bar": [
           {
            "error_x": {
             "color": "#2a3f5f"
            },
            "error_y": {
             "color": "#2a3f5f"
            },
            "marker": {
             "line": {
              "color": "#E5ECF6",
              "width": 0.5
             },
             "pattern": {
              "fillmode": "overlay",
              "size": 10,
              "solidity": 0.2
             }
            },
            "type": "bar"
           }
          ],
          "barpolar": [
           {
            "marker": {
             "line": {
              "color": "#E5ECF6",
              "width": 0.5
             },
             "pattern": {
              "fillmode": "overlay",
              "size": 10,
              "solidity": 0.2
             }
            },
            "type": "barpolar"
           }
          ],
          "carpet": [
           {
            "aaxis": {
             "endlinecolor": "#2a3f5f",
             "gridcolor": "white",
             "linecolor": "white",
             "minorgridcolor": "white",
             "startlinecolor": "#2a3f5f"
            },
            "baxis": {
             "endlinecolor": "#2a3f5f",
             "gridcolor": "white",
             "linecolor": "white",
             "minorgridcolor": "white",
             "startlinecolor": "#2a3f5f"
            },
            "type": "carpet"
           }
          ],
          "choropleth": [
           {
            "colorbar": {
             "outlinewidth": 0,
             "ticks": ""
            },
            "type": "choropleth"
           }
          ],
          "contour": [
           {
            "colorbar": {
             "outlinewidth": 0,
             "ticks": ""
            },
            "colorscale": [
             [
              0,
              "#0d0887"
             ],
             [
              0.1111111111111111,
              "#46039f"
             ],
             [
              0.2222222222222222,
              "#7201a8"
             ],
             [
              0.3333333333333333,
              "#9c179e"
             ],
             [
              0.4444444444444444,
              "#bd3786"
             ],
             [
              0.5555555555555556,
              "#d8576b"
             ],
             [
              0.6666666666666666,
              "#ed7953"
             ],
             [
              0.7777777777777778,
              "#fb9f3a"
             ],
             [
              0.8888888888888888,
              "#fdca26"
             ],
             [
              1,
              "#f0f921"
             ]
            ],
            "type": "contour"
           }
          ],
          "contourcarpet": [
           {
            "colorbar": {
             "outlinewidth": 0,
             "ticks": ""
            },
            "type": "contourcarpet"
           }
          ],
          "heatmap": [
           {
            "colorbar": {
             "outlinewidth": 0,
             "ticks": ""
            },
            "colorscale": [
             [
              0,
              "#0d0887"
             ],
             [
              0.1111111111111111,
              "#46039f"
             ],
             [
              0.2222222222222222,
              "#7201a8"
             ],
             [
              0.3333333333333333,
              "#9c179e"
             ],
             [
              0.4444444444444444,
              "#bd3786"
             ],
             [
              0.5555555555555556,
              "#d8576b"
             ],
             [
              0.6666666666666666,
              "#ed7953"
             ],
             [
              0.7777777777777778,
              "#fb9f3a"
             ],
             [
              0.8888888888888888,
              "#fdca26"
             ],
             [
              1,
              "#f0f921"
             ]
            ],
            "type": "heatmap"
           }
          ],
          "heatmapgl": [
           {
            "colorbar": {
             "outlinewidth": 0,
             "ticks": ""
            },
            "colorscale": [
             [
              0,
              "#0d0887"
             ],
             [
              0.1111111111111111,
              "#46039f"
             ],
             [
              0.2222222222222222,
              "#7201a8"
             ],
             [
              0.3333333333333333,
              "#9c179e"
             ],
             [
              0.4444444444444444,
              "#bd3786"
             ],
             [
              0.5555555555555556,
              "#d8576b"
             ],
             [
              0.6666666666666666,
              "#ed7953"
             ],
             [
              0.7777777777777778,
              "#fb9f3a"
             ],
             [
              0.8888888888888888,
              "#fdca26"
             ],
             [
              1,
              "#f0f921"
             ]
            ],
            "type": "heatmapgl"
           }
          ],
          "histogram": [
           {
            "marker": {
             "pattern": {
              "fillmode": "overlay",
              "size": 10,
              "solidity": 0.2
             }
            },
            "type": "histogram"
           }
          ],
          "histogram2d": [
           {
            "colorbar": {
             "outlinewidth": 0,
             "ticks": ""
            },
            "colorscale": [
             [
              0,
              "#0d0887"
             ],
             [
              0.1111111111111111,
              "#46039f"
             ],
             [
              0.2222222222222222,
              "#7201a8"
             ],
             [
              0.3333333333333333,
              "#9c179e"
             ],
             [
              0.4444444444444444,
              "#bd3786"
             ],
             [
              0.5555555555555556,
              "#d8576b"
             ],
             [
              0.6666666666666666,
              "#ed7953"
             ],
             [
              0.7777777777777778,
              "#fb9f3a"
             ],
             [
              0.8888888888888888,
              "#fdca26"
             ],
             [
              1,
              "#f0f921"
             ]
            ],
            "type": "histogram2d"
           }
          ],
          "histogram2dcontour": [
           {
            "colorbar": {
             "outlinewidth": 0,
             "ticks": ""
            },
            "colorscale": [
             [
              0,
              "#0d0887"
             ],
             [
              0.1111111111111111,
              "#46039f"
             ],
             [
              0.2222222222222222,
              "#7201a8"
             ],
             [
              0.3333333333333333,
              "#9c179e"
             ],
             [
              0.4444444444444444,
              "#bd3786"
             ],
             [
              0.5555555555555556,
              "#d8576b"
             ],
             [
              0.6666666666666666,
              "#ed7953"
             ],
             [
              0.7777777777777778,
              "#fb9f3a"
             ],
             [
              0.8888888888888888,
              "#fdca26"
             ],
             [
              1,
              "#f0f921"
             ]
            ],
            "type": "histogram2dcontour"
           }
          ],
          "mesh3d": [
           {
            "colorbar": {
             "outlinewidth": 0,
             "ticks": ""
            },
            "type": "mesh3d"
           }
          ],
          "parcoords": [
           {
            "line": {
             "colorbar": {
              "outlinewidth": 0,
              "ticks": ""
             }
            },
            "type": "parcoords"
           }
          ],
          "pie": [
           {
            "automargin": true,
            "type": "pie"
           }
          ],
          "scatter": [
           {
            "fillpattern": {
             "fillmode": "overlay",
             "size": 10,
             "solidity": 0.2
            },
            "type": "scatter"
           }
          ],
          "scatter3d": [
           {
            "line": {
             "colorbar": {
              "outlinewidth": 0,
              "ticks": ""
             }
            },
            "marker": {
             "colorbar": {
              "outlinewidth": 0,
              "ticks": ""
             }
            },
            "type": "scatter3d"
           }
          ],
          "scattercarpet": [
           {
            "marker": {
             "colorbar": {
              "outlinewidth": 0,
              "ticks": ""
             }
            },
            "type": "scattercarpet"
           }
          ],
          "scattergeo": [
           {
            "marker": {
             "colorbar": {
              "outlinewidth": 0,
              "ticks": ""
             }
            },
            "type": "scattergeo"
           }
          ],
          "scattergl": [
           {
            "marker": {
             "colorbar": {
              "outlinewidth": 0,
              "ticks": ""
             }
            },
            "type": "scattergl"
           }
          ],
          "scattermapbox": [
           {
            "marker": {
             "colorbar": {
              "outlinewidth": 0,
              "ticks": ""
             }
            },
            "type": "scattermapbox"
           }
          ],
          "scatterpolar": [
           {
            "marker": {
             "colorbar": {
              "outlinewidth": 0,
              "ticks": ""
             }
            },
            "type": "scatterpolar"
           }
          ],
          "scatterpolargl": [
           {
            "marker": {
             "colorbar": {
              "outlinewidth": 0,
              "ticks": ""
             }
            },
            "type": "scatterpolargl"
           }
          ],
          "scatterternary": [
           {
            "marker": {
             "colorbar": {
              "outlinewidth": 0,
              "ticks": ""
             }
            },
            "type": "scatterternary"
           }
          ],
          "surface": [
           {
            "colorbar": {
             "outlinewidth": 0,
             "ticks": ""
            },
            "colorscale": [
             [
              0,
              "#0d0887"
             ],
             [
              0.1111111111111111,
              "#46039f"
             ],
             [
              0.2222222222222222,
              "#7201a8"
             ],
             [
              0.3333333333333333,
              "#9c179e"
             ],
             [
              0.4444444444444444,
              "#bd3786"
             ],
             [
              0.5555555555555556,
              "#d8576b"
             ],
             [
              0.6666666666666666,
              "#ed7953"
             ],
             [
              0.7777777777777778,
              "#fb9f3a"
             ],
             [
              0.8888888888888888,
              "#fdca26"
             ],
             [
              1,
              "#f0f921"
             ]
            ],
            "type": "surface"
           }
          ],
          "table": [
           {
            "cells": {
             "fill": {
              "color": "#EBF0F8"
             },
             "line": {
              "color": "white"
             }
            },
            "header": {
             "fill": {
              "color": "#C8D4E3"
             },
             "line": {
              "color": "white"
             }
            },
            "type": "table"
           }
          ]
         },
         "layout": {
          "annotationdefaults": {
           "arrowcolor": "#2a3f5f",
           "arrowhead": 0,
           "arrowwidth": 1
          },
          "autotypenumbers": "strict",
          "coloraxis": {
           "colorbar": {
            "outlinewidth": 0,
            "ticks": ""
           }
          },
          "colorscale": {
           "diverging": [
            [
             0,
             "#8e0152"
            ],
            [
             0.1,
             "#c51b7d"
            ],
            [
             0.2,
             "#de77ae"
            ],
            [
             0.3,
             "#f1b6da"
            ],
            [
             0.4,
             "#fde0ef"
            ],
            [
             0.5,
             "#f7f7f7"
            ],
            [
             0.6,
             "#e6f5d0"
            ],
            [
             0.7,
             "#b8e186"
            ],
            [
             0.8,
             "#7fbc41"
            ],
            [
             0.9,
             "#4d9221"
            ],
            [
             1,
             "#276419"
            ]
           ],
           "sequential": [
            [
             0,
             "#0d0887"
            ],
            [
             0.1111111111111111,
             "#46039f"
            ],
            [
             0.2222222222222222,
             "#7201a8"
            ],
            [
             0.3333333333333333,
             "#9c179e"
            ],
            [
             0.4444444444444444,
             "#bd3786"
            ],
            [
             0.5555555555555556,
             "#d8576b"
            ],
            [
             0.6666666666666666,
             "#ed7953"
            ],
            [
             0.7777777777777778,
             "#fb9f3a"
            ],
            [
             0.8888888888888888,
             "#fdca26"
            ],
            [
             1,
             "#f0f921"
            ]
           ],
           "sequentialminus": [
            [
             0,
             "#0d0887"
            ],
            [
             0.1111111111111111,
             "#46039f"
            ],
            [
             0.2222222222222222,
             "#7201a8"
            ],
            [
             0.3333333333333333,
             "#9c179e"
            ],
            [
             0.4444444444444444,
             "#bd3786"
            ],
            [
             0.5555555555555556,
             "#d8576b"
            ],
            [
             0.6666666666666666,
             "#ed7953"
            ],
            [
             0.7777777777777778,
             "#fb9f3a"
            ],
            [
             0.8888888888888888,
             "#fdca26"
            ],
            [
             1,
             "#f0f921"
            ]
           ]
          },
          "colorway": [
           "#636efa",
           "#EF553B",
           "#00cc96",
           "#ab63fa",
           "#FFA15A",
           "#19d3f3",
           "#FF6692",
           "#B6E880",
           "#FF97FF",
           "#FECB52"
          ],
          "font": {
           "color": "#2a3f5f"
          },
          "geo": {
           "bgcolor": "white",
           "lakecolor": "white",
           "landcolor": "#E5ECF6",
           "showlakes": true,
           "showland": true,
           "subunitcolor": "white"
          },
          "hoverlabel": {
           "align": "left"
          },
          "hovermode": "closest",
          "mapbox": {
           "style": "light"
          },
          "paper_bgcolor": "white",
          "plot_bgcolor": "#E5ECF6",
          "polar": {
           "angularaxis": {
            "gridcolor": "white",
            "linecolor": "white",
            "ticks": ""
           },
           "bgcolor": "#E5ECF6",
           "radialaxis": {
            "gridcolor": "white",
            "linecolor": "white",
            "ticks": ""
           }
          },
          "scene": {
           "xaxis": {
            "backgroundcolor": "#E5ECF6",
            "gridcolor": "white",
            "gridwidth": 2,
            "linecolor": "white",
            "showbackground": true,
            "ticks": "",
            "zerolinecolor": "white"
           },
           "yaxis": {
            "backgroundcolor": "#E5ECF6",
            "gridcolor": "white",
            "gridwidth": 2,
            "linecolor": "white",
            "showbackground": true,
            "ticks": "",
            "zerolinecolor": "white"
           },
           "zaxis": {
            "backgroundcolor": "#E5ECF6",
            "gridcolor": "white",
            "gridwidth": 2,
            "linecolor": "white",
            "showbackground": true,
            "ticks": "",
            "zerolinecolor": "white"
           }
          },
          "shapedefaults": {
           "line": {
            "color": "#2a3f5f"
           }
          },
          "ternary": {
           "aaxis": {
            "gridcolor": "white",
            "linecolor": "white",
            "ticks": ""
           },
           "baxis": {
            "gridcolor": "white",
            "linecolor": "white",
            "ticks": ""
           },
           "bgcolor": "#E5ECF6",
           "caxis": {
            "gridcolor": "white",
            "linecolor": "white",
            "ticks": ""
           }
          },
          "title": {
           "x": 0.05
          },
          "xaxis": {
           "automargin": true,
           "gridcolor": "white",
           "linecolor": "white",
           "ticks": "",
           "title": {
            "standoff": 15
           },
           "zerolinecolor": "white",
           "zerolinewidth": 2
          },
          "yaxis": {
           "automargin": true,
           "gridcolor": "white",
           "linecolor": "white",
           "ticks": "",
           "title": {
            "standoff": 15
           },
           "zerolinecolor": "white",
           "zerolinewidth": 2
          }
         }
        },
        "width": 900
       }
      }
     },
     "metadata": {},
     "output_type": "display_data"
    }
   ],
   "source": [
    "# Plotting the scatter matrix\n",
    "dat = data[['age', 'ejection_fraction', 'platelets', 'serum_creatinine', 'creatinine_phosphokinase']]\n",
    "pd.DataFrame.iteritems = pd.DataFrame.items\n",
    "fig = px.scatter_matrix(dat, width=900, height=600)\n",
    "fig.show()"
   ]
  },
  {
   "cell_type": "markdown",
   "metadata": {},
   "source": [
    "Interpretation: From the last row scatter matrix plot above, it shows that there are no linear relationship between the response variable creatinine_phosphokinase and any of the explanatory variables (age, ejection_fraction, platelets, and serum_creatinine)."
   ]
  },
  {
   "cell_type": "markdown",
   "metadata": {},
   "source": [
    "### Multiple Linear Regression Analysis of the variables"
   ]
  },
  {
   "cell_type": "code",
   "execution_count": 9,
   "metadata": {},
   "outputs": [
    {
     "name": "stdout",
     "output_type": "stream",
     "text": [
      "                      Results: Ordinary least squares\n",
      "===========================================================================\n",
      "Model:              OLS                      Adj. R-squared:     -0.005    \n",
      "Dependent Variable: creatinine_phosphokinase AIC:                4967.6964 \n",
      "Date:               2024-05-22 13:49         BIC:                4986.1986 \n",
      "No. Observations:   299                      Log-Likelihood:     -2478.8   \n",
      "Df Model:           4                        F-statistic:        0.6488    \n",
      "Df Residuals:       294                      Prob (F-statistic): 0.628     \n",
      "R-squared:          0.009                    Scale:              9.4592e+05\n",
      "---------------------------------------------------------------------------\n",
      "                        Coef.   Std.Err.    t    P>|t|    [0.025    0.975] \n",
      "---------------------------------------------------------------------------\n",
      "Intercept             1038.0204 372.4637  2.7869 0.0057  304.9874 1771.0534\n",
      "age                     -6.3072   4.8135 -1.3103 0.1911  -15.7804    3.1661\n",
      "ejection_fraction       -3.3738   4.7837 -0.7053 0.4812  -12.7884    6.0408\n",
      "platelets                0.0002   0.0006  0.3983 0.6907   -0.0009    0.0014\n",
      "serum_creatinine        -3.3840  55.2046 -0.0613 0.9512 -112.0302  105.2623\n",
      "---------------------------------------------------------------------------\n",
      "Omnibus:                 304.849         Durbin-Watson:            2.001   \n",
      "Prob(Omnibus):           0.000           Jarque-Bera (JB):         8310.448\n",
      "Skew:                    4.398           Prob(JB):                 0.000   \n",
      "Kurtosis:                27.284          Condition No.:            1860313 \n",
      "===========================================================================\n",
      "Notes:\n",
      "[1] Standard Errors assume that the covariance matrix of the errors is\n",
      "correctly specified.\n",
      "[2] The condition number is large, 1.86e+06. This might indicate\n",
      "that there are strong multicollinearity or other numerical\n",
      "problems.\n"
     ]
    }
   ],
   "source": [
    "# Linear regression analysis\n",
    "model = sm.ols('creatinine_phosphokinase ~ age + ejection_fraction + platelets + serum_creatinine',data)\n",
    "result = model.fit()\n",
    "print(result.summary2())"
   ]
  },
  {
   "cell_type": "markdown",
   "metadata": {},
   "source": [
    "### Model Analyzation and Interpretation\n",
    "\n",
    "- Intercept: The intercept of 1038.0204 suggests that when all independent variables are zero, the predicted value of the dependent variable is 1038.0204.\n",
    "\n",
    "- age: The negative coefficient (-6.3072) suggests that, holding other variables constant, an increase in age is associated with a decrease in creatinine_phosphokinase.\n",
    "\n",
    "- ejection_fraction: The negative coefficient (-3.3738) suggests that, holding other variables constant, an increase in ejection_fraction is associated with a decrease in creatinine_phosphokinase.\n",
    "\n",
    "- platelets: The positive coefficient (0.0002) is small and the p-value is high, indicating that platelets may not be a statistically significant predictor.\n",
    "\n",
    "- serum_creatinine: The negative coefficient (-3.3840) suggests that, holding other variables constant, an increase in serum_creatinine is associated with a decrease in creatinine_phosphokinase.\n"
   ]
  },
  {
   "cell_type": "markdown",
   "metadata": {},
   "source": [
    "### Making Prediction"
   ]
  },
  {
   "cell_type": "code",
   "execution_count": 10,
   "metadata": {},
   "outputs": [
    {
     "data": {
      "text/html": [
       "<div>\n",
       "<style scoped>\n",
       "    .dataframe tbody tr th:only-of-type {\n",
       "        vertical-align: middle;\n",
       "    }\n",
       "\n",
       "    .dataframe tbody tr th {\n",
       "        vertical-align: top;\n",
       "    }\n",
       "\n",
       "    .dataframe thead th {\n",
       "        text-align: right;\n",
       "    }\n",
       "</style>\n",
       "<table border=\"1\" class=\"dataframe\">\n",
       "  <thead>\n",
       "    <tr style=\"text-align: right;\">\n",
       "      <th></th>\n",
       "      <th>age</th>\n",
       "      <th>ejection_fraction</th>\n",
       "      <th>platelets</th>\n",
       "      <th>serum_creatinine</th>\n",
       "      <th>Predicted CPK level</th>\n",
       "    </tr>\n",
       "  </thead>\n",
       "  <tbody>\n",
       "    <tr>\n",
       "      <th>0</th>\n",
       "      <td>30</td>\n",
       "      <td>19</td>\n",
       "      <td>150000</td>\n",
       "      <td>1.2</td>\n",
       "      <td>815.221865</td>\n",
       "    </tr>\n",
       "    <tr>\n",
       "      <th>1</th>\n",
       "      <td>70</td>\n",
       "      <td>25</td>\n",
       "      <td>278000</td>\n",
       "      <td>2.5</td>\n",
       "      <td>567.800673</td>\n",
       "    </tr>\n",
       "    <tr>\n",
       "      <th>2</th>\n",
       "      <td>80</td>\n",
       "      <td>45</td>\n",
       "      <td>508000</td>\n",
       "      <td>3.0</td>\n",
       "      <td>488.582640</td>\n",
       "    </tr>\n",
       "    <tr>\n",
       "      <th>3</th>\n",
       "      <td>45</td>\n",
       "      <td>38</td>\n",
       "      <td>134000</td>\n",
       "      <td>2.0</td>\n",
       "      <td>650.117094</td>\n",
       "    </tr>\n",
       "    <tr>\n",
       "      <th>4</th>\n",
       "      <td>60</td>\n",
       "      <td>50</td>\n",
       "      <td>155000</td>\n",
       "      <td>2.8</td>\n",
       "      <td>517.158189</td>\n",
       "    </tr>\n",
       "  </tbody>\n",
       "</table>\n",
       "</div>"
      ],
      "text/plain": [
       "   age  ejection_fraction  platelets  serum_creatinine  Predicted CPK level\n",
       "0   30                 19     150000               1.2           815.221865\n",
       "1   70                 25     278000               2.5           567.800673\n",
       "2   80                 45     508000               3.0           488.582640\n",
       "3   45                 38     134000               2.0           650.117094\n",
       "4   60                 50     155000               2.8           517.158189"
      ]
     },
     "execution_count": 10,
     "metadata": {},
     "output_type": "execute_result"
    }
   ],
   "source": [
    "# setting of new independent variables for prediction\n",
    "age = [30, 70, 80, 45, 60]\n",
    "ejection_fraction = [19, 25, 45, 38, 50]\n",
    "platelets = [150000, 278000, 508000, 134000, 155000]\n",
    "serum_creatinine = [1.2, 2.5, 3.0, 2.0, 2.8]\n",
    "\n",
    "prediction = pd.DataFrame({'age': age, 'ejection_fraction': ejection_fraction,\n",
    "                           'platelets': platelets, 'serum_creatinine': serum_creatinine})\n",
    "prediction['Predicted CPK level'] = result.predict(prediction)\n",
    "prediction"
   ]
  },
  {
   "cell_type": "markdown",
   "metadata": {},
   "source": [
    "Observation: The R-squared value (0.009) is very low in this model, indicating that the model does not explain much of the variance in the dependent variable. Additionally, the p-values for the coefficients suggest that none of the independent variables are statistically significant in predicting the dependent variable. In other words, we might have to explore other variables for future predictions."
   ]
  },
  {
   "cell_type": "markdown",
   "metadata": {},
   "source": [
    "# PART B: Classification\n",
    "In this section, I would be performing classification on my data(HeartFailure.csv) to predict the correct label of my dependent variable death event while still using age, ejection fraction, platelets, and serum creatinine as my independent variables."
   ]
  },
  {
   "cell_type": "markdown",
   "metadata": {},
   "source": [
    "### Frequency Table for DEATH_EVENT"
   ]
  },
  {
   "cell_type": "code",
   "execution_count": 11,
   "metadata": {},
   "outputs": [
    {
     "data": {
      "text/html": [
       "<div>\n",
       "<style scoped>\n",
       "    .dataframe tbody tr th:only-of-type {\n",
       "        vertical-align: middle;\n",
       "    }\n",
       "\n",
       "    .dataframe tbody tr th {\n",
       "        vertical-align: top;\n",
       "    }\n",
       "\n",
       "    .dataframe thead th {\n",
       "        text-align: right;\n",
       "    }\n",
       "</style>\n",
       "<table border=\"1\" class=\"dataframe\">\n",
       "  <thead>\n",
       "    <tr style=\"text-align: right;\">\n",
       "      <th></th>\n",
       "      <th>DEATH_EVENT</th>\n",
       "      <th>frequency</th>\n",
       "      <th>relative frequency</th>\n",
       "    </tr>\n",
       "  </thead>\n",
       "  <tbody>\n",
       "    <tr>\n",
       "      <th>0</th>\n",
       "      <td>0</td>\n",
       "      <td>203</td>\n",
       "      <td>0.67893</td>\n",
       "    </tr>\n",
       "    <tr>\n",
       "      <th>1</th>\n",
       "      <td>1</td>\n",
       "      <td>96</td>\n",
       "      <td>0.32107</td>\n",
       "    </tr>\n",
       "  </tbody>\n",
       "</table>\n",
       "</div>"
      ],
      "text/plain": [
       "   DEATH_EVENT  frequency  relative frequency\n",
       "0            0        203             0.67893\n",
       "1            1         96             0.32107"
      ]
     },
     "execution_count": 11,
     "metadata": {},
     "output_type": "execute_result"
    }
   ],
   "source": [
    "# making a frequency table for DEATH_EVENT\n",
    "freq_de = data['DEATH_EVENT'].value_counts()\n",
    "freq_de = pd.DataFrame({'DEATH_EVENT': freq_de.keys(), 'frequency': freq_de.values})\n",
    "freq_de = freq_de.sort_values(by = 'DEATH_EVENT')\n",
    "freq_de['relative frequency'] = freq_de['frequency']/freq_de['frequency'].sum()\n",
    "freq_de"
   ]
  },
  {
   "cell_type": "markdown",
   "metadata": {},
   "source": [
    "From the frequency table above, it is clear that death after follow-up period (0) has a frequency of 203 and relative frequency of 0.67893, while death during follow-up period (1) has a frequency of 96 and relative frequency of 0.32107."
   ]
  },
  {
   "cell_type": "markdown",
   "metadata": {},
   "source": [
    "### Training and Testing the data\n"
   ]
  },
  {
   "cell_type": "code",
   "execution_count": 12,
   "metadata": {},
   "outputs": [
    {
     "name": "stdout",
     "output_type": "stream",
     "text": [
      "Train Data \n",
      "         age  ejection_fraction  platelets  serum_creatinine  DEATH_EVENT\n",
      "224  58.000                 25  504000.00               1.0            0\n",
      "68   70.000                 25  244000.00               1.2            1\n",
      "222  42.000                 35  365000.00               1.1            0\n",
      "37   82.000                 50  321000.00               1.0            1\n",
      "16   87.000                 38  262000.00               0.9            1\n",
      "..      ...                ...        ...               ...          ...\n",
      "188  60.667                 40  201000.00               1.0            0\n",
      "71   58.000                 35  122000.00               0.9            0\n",
      "106  55.000                 45  263000.00               1.3            0\n",
      "270  44.000                 30  263358.03               1.6            0\n",
      "102  80.000                 25  149000.00               1.1            0\n",
      "\n",
      "[209 rows x 5 columns] \n",
      "\n",
      "Test Data \n",
      "       age  ejection_fraction  platelets  serum_creatinine  DEATH_EVENT\n",
      "281  70.0                 40   51000.00              2.70            0\n",
      "265  50.0                 35  362000.00              0.90            0\n",
      "164  45.0                 30  334000.00              1.10            1\n",
      "9    80.0                 35  388000.00              9.40            1\n",
      "77   42.0                 40  237000.00              1.20            0\n",
      "..    ...                ...        ...               ...          ...\n",
      "132  46.0                 40  263358.03              1.18            0\n",
      "72   85.0                 35  243000.00              1.00            1\n",
      "15   82.0                 50   47000.00              1.30            1\n",
      "10   75.0                 38  368000.00              4.00            1\n",
      "157  50.0                 25  262000.00              1.00            0\n",
      "\n",
      "[90 rows x 5 columns]\n"
     ]
    }
   ],
   "source": [
    "# response variable(y) and explanatory variables(x)\n",
    "y = data[['DEATH_EVENT']]\n",
    "x = data[['age', 'ejection_fraction', 'platelets', 'serum_creatinine']]\n",
    "\n",
    "# splitting data into 70% train and 30% test data\n",
    "(x_train, x_test, y_train, y_test) = train_test_split(x,y,test_size=0.3, random_state=42)\n",
    "\n",
    "train_data = pd.concat([x_train, y_train], axis=1, join='inner')\n",
    "test_data = pd.concat([x_test, y_test], axis=1, join='inner')\n",
    "print('Train Data \\n', train_data, '\\n')\n",
    "print('Test Data \\n', test_data)"
   ]
  },
  {
   "cell_type": "markdown",
   "metadata": {},
   "source": [
    "### Multiple Logistic Regression Analysis based on Train data"
   ]
  },
  {
   "cell_type": "code",
   "execution_count": 13,
   "metadata": {},
   "outputs": [
    {
     "name": "stdout",
     "output_type": "stream",
     "text": [
      "Optimization terminated successfully.\n",
      "         Current function value: 0.456735\n",
      "         Iterations 6\n",
      "                         Results: Logit\n",
      "=================================================================\n",
      "Model:              Logit            Method:           MLE       \n",
      "Dependent Variable: DEATH_EVENT      Pseudo R-squared: 0.233     \n",
      "Date:               2024-05-22 13:52 AIC:              200.9153  \n",
      "No. Observations:   209              BIC:              217.6270  \n",
      "Df Model:           4                Log-Likelihood:   -95.458   \n",
      "Df Residuals:       204              LL-Null:          -124.38   \n",
      "Converged:          1.0000           LLR p-value:      8.2430e-12\n",
      "No. Iterations:     6.0000           Scale:            1.0000    \n",
      "-----------------------------------------------------------------\n",
      "                   Coef.  Std.Err.    z    P>|z|   [0.025  0.975]\n",
      "-----------------------------------------------------------------\n",
      "Intercept         -3.3970   1.2090 -2.8097 0.0050 -5.7666 -1.0274\n",
      "age                0.0642   0.0163  3.9293 0.0001  0.0322  0.0962\n",
      "ejection_fraction -0.0737   0.0190 -3.8775 0.0001 -0.1110 -0.0365\n",
      "platelets         -0.0000   0.0000 -0.1352 0.8924 -0.0000  0.0000\n",
      "serum_creatinine   0.8352   0.2040  4.0948 0.0000  0.4354  1.2349\n",
      "=================================================================\n",
      "\n"
     ]
    }
   ],
   "source": [
    "# Logistic regression model using statsmodel formula API\n",
    "model = sm.logit(formula='DEATH_EVENT ~ age + ejection_fraction + platelets + serum_creatinine', data=train_data)\n",
    "result2 = model.fit()\n",
    "\n",
    "# print the summary of the logistic regression model\n",
    "print(result2.summary2())"
   ]
  },
  {
   "cell_type": "markdown",
   "metadata": {},
   "source": [
    "The logistic regression model summary above has provided valuable information about the relationship between the predictors (age, ejection_fraction, platelets, and serum_creatinine) and the likelihood of death event."
   ]
  },
  {
   "cell_type": "markdown",
   "metadata": {},
   "source": [
    "### Finding the Predictions (classes) for the Test data and Comparing them to the True values."
   ]
  },
  {
   "cell_type": "code",
   "execution_count": 14,
   "metadata": {},
   "outputs": [
    {
     "name": "stdout",
     "output_type": "stream",
     "text": [
      "     True Death Status  Predicted Probability  Predicted Death Status\n",
      "281                  0               0.596109                       1\n",
      "265                  0               0.108076                       1\n",
      "164                  1               0.131410                       1\n",
      "9                    1               0.999001                       1\n",
      "77                   0               0.062411                       1\n",
      "..                 ...                    ...                     ...\n",
      "132                  0               0.077532                       1\n",
      "72                   1               0.562412                       1\n",
      "15                   1               0.321737                       1\n",
      "10                   1               0.865367                       1\n",
      "157                  0               0.220349                       1\n",
      "\n",
      "[90 rows x 3 columns]\n",
      "\n",
      "True Status \n",
      " DEATH_EVENT\n",
      "0    53\n",
      "1    37\n",
      "Name: count, dtype: int64 \n",
      "\n",
      "Predicted Status \n",
      " 1    83\n",
      "0     7\n",
      "Name: count, dtype: int64\n"
     ]
    }
   ],
   "source": [
    "# Make predictions on death event\n",
    "predictions = result2.predict(test_data)\n",
    "predicted_labels = (predictions > 0.05).astype(int)\n",
    "true_labels = test_data['DEATH_EVENT']\n",
    "\n",
    "pred = pd.DataFrame({'True Death Status': true_labels,\n",
    "                    'Predicted Probability': predictions,\n",
    "                    'Predicted Death Status': predicted_labels})\n",
    "print(pred)\n",
    "print('\\nTrue Status \\n', true_labels.value_counts(), '\\n')\n",
    "print('Predicted Status \\n', predicted_labels.value_counts())"
   ]
  },
  {
   "cell_type": "markdown",
   "metadata": {},
   "source": [
    "From the above we observe that true classification is 37 deaths during follow-up period and 53 deaths after follow-up period, and we predict 83 deaths during the follow-up period and 7 deaths after follow-up period."
   ]
  },
  {
   "cell_type": "markdown",
   "metadata": {},
   "source": [
    "### Confusion Matrix and Accuracy"
   ]
  },
  {
   "cell_type": "code",
   "execution_count": 15,
   "metadata": {},
   "outputs": [
    {
     "name": "stdout",
     "output_type": "stream",
     "text": [
      "Confusion Matrix:\n",
      " [[ 5 48]\n",
      " [ 2 35]]\n",
      "The Accuracy for the Test Set is 44.44444444444444\n",
      "The Test Error Rate is 55.55555555555556\n"
     ]
    }
   ],
   "source": [
    "# Evaluate the model's performance:\n",
    "# finding the confusion matrix\n",
    "true_labels = test_data['DEATH_EVENT']\n",
    "conf_matrix = confusion_matrix(true_labels, predicted_labels)\n",
    "print('Confusion Matrix:\\n', conf_matrix)\n",
    "\n",
    "# finding the test accuracy\n",
    "test_acc = accuracy_score(true_labels, predicted_labels)\n",
    "print('The Accuracy for the Test Set is {}'.format(test_acc*100))\n",
    "print('The Test Error Rate is {}'.format(100-test_acc*100))"
   ]
  },
  {
   "cell_type": "markdown",
   "metadata": {},
   "source": [
    "The accuracy of the fitted model is 44.44% and the test error rate is 55.56%"
   ]
  },
  {
   "cell_type": "markdown",
   "metadata": {},
   "source": [
    "## Conclusion\n",
    "Based on the analysis done in PART A (Regression Analysis), I noticed lack of linear relationship between the response and explanatory variables, and lots of weak negative relationships between the variables which brings me to the conclusion that not all the variables can be used to accurately predict the survival rate of a heart failure patient, and that more data is required for a better prediction. \n",
    "\n",
    "Based on PART B analysis (Classification Analysis), I discovered that most patients died after their follow-up period. Using that knowledge I would suggest that for future analysis the health progress record should be taken, that is, a record of changes in the patients blood system during the follow-up periods. Because with this record a better prediction on patients' survival can be made as more information would be taken and deaths can be decreased.\n",
    "\n",
    "\n",
    "## Reference\n",
    "Chicco, D., & Jurman, G.(2020). Machine learning can predict survival of patients with heart failure from serum creatinine and ejection fraction alone. BMC Med Inform Decis Mak 20, 16. https://doi.org/10.1186/s12911-020-1023-5"
   ]
  }
 ],
 "metadata": {
  "kernelspec": {
   "display_name": "Python 3",
   "language": "python",
   "name": "python3"
  },
  "language_info": {
   "codemirror_mode": {
    "name": "ipython",
    "version": 3
   },
   "file_extension": ".py",
   "mimetype": "text/x-python",
   "name": "python",
   "nbconvert_exporter": "python",
   "pygments_lexer": "ipython3",
   "version": "3.11.5"
  }
 },
 "nbformat": 4,
 "nbformat_minor": 2
}
